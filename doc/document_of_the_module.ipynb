{
 "cells": [
  {
   "cell_type": "markdown",
   "metadata": {
    "toc": "true"
   },
   "source": [
    "# Table of Contents\n",
    " <p><div class=\"lev1 toc-item\"><a href=\"#概要\" data-toc-modified-id=\"概要-1\"><span class=\"toc-item-num\">1&nbsp;&nbsp;</span>概要</a></div><div class=\"lev1 toc-item\"><a href=\"#使用方法\" data-toc-modified-id=\"使用方法-2\"><span class=\"toc-item-num\">2&nbsp;&nbsp;</span>使用方法</a></div><div class=\"lev1 toc-item\"><a href=\"#リファレンス\" data-toc-modified-id=\"リファレンス-3\"><span class=\"toc-item-num\">3&nbsp;&nbsp;</span>リファレンス</a></div><div class=\"lev2 toc-item\"><a href=\"#モジュール構成\" data-toc-modified-id=\"モジュール構成-31\"><span class=\"toc-item-num\">3.1&nbsp;&nbsp;</span>モジュール構成</a></div><div class=\"lev2 toc-item\"><a href=\"#models\" data-toc-modified-id=\"models-32\"><span class=\"toc-item-num\">3.2&nbsp;&nbsp;</span>models</a></div><div class=\"lev3 toc-item\"><a href=\"#Predictor\" data-toc-modified-id=\"Predictor-321\"><span class=\"toc-item-num\">3.2.1&nbsp;&nbsp;</span>Predictor</a></div><div class=\"lev4 toc-item\"><a href=\"#learning\" data-toc-modified-id=\"learning-3211\"><span class=\"toc-item-num\">3.2.1.1&nbsp;&nbsp;</span>learning</a></div><div class=\"lev4 toc-item\"><a href=\"#load_model\" data-toc-modified-id=\"load_model-3212\"><span class=\"toc-item-num\">3.2.1.2&nbsp;&nbsp;</span>load_model</a></div><div class=\"lev4 toc-item\"><a href=\"#normalize\" data-toc-modified-id=\"normalize-3213\"><span class=\"toc-item-num\">3.2.1.3&nbsp;&nbsp;</span>normalize</a></div><div class=\"lev4 toc-item\"><a href=\"#denormalize\" data-toc-modified-id=\"denormalize-3214\"><span class=\"toc-item-num\">3.2.1.4&nbsp;&nbsp;</span>denormalize</a></div><div class=\"lev4 toc-item\"><a href=\"#create_model\" data-toc-modified-id=\"create_model-3215\"><span class=\"toc-item-num\">3.2.1.5&nbsp;&nbsp;</span>create_model</a></div><div class=\"lev3 toc-item\"><a href=\"#TemperaturePredictor\" data-toc-modified-id=\"TemperaturePredictor-322\"><span class=\"toc-item-num\">3.2.2&nbsp;&nbsp;</span>TemperaturePredictor</a></div><div class=\"lev4 toc-item\"><a href=\"#make_data\" data-toc-modified-id=\"make_data-3221\"><span class=\"toc-item-num\">3.2.2.1&nbsp;&nbsp;</span>make_data</a></div><div class=\"lev3 toc-item\"><a href=\"#PressurePredictor\" data-toc-modified-id=\"PressurePredictor-323\"><span class=\"toc-item-num\">3.2.3&nbsp;&nbsp;</span>PressurePredictor</a></div><div class=\"lev4 toc-item\"><a href=\"#make_data\" data-toc-modified-id=\"make_data-3231\"><span class=\"toc-item-num\">3.2.3.1&nbsp;&nbsp;</span>make_data</a></div><div class=\"lev3 toc-item\"><a href=\"#HumidityPredictor\" data-toc-modified-id=\"HumidityPredictor-324\"><span class=\"toc-item-num\">3.2.4&nbsp;&nbsp;</span>HumidityPredictor</a></div><div class=\"lev4 toc-item\"><a href=\"#make_data\" data-toc-modified-id=\"make_data-3241\"><span class=\"toc-item-num\">3.2.4.1&nbsp;&nbsp;</span>make_data</a></div><div class=\"lev3 toc-item\"><a href=\"#WeatherPredictor\" data-toc-modified-id=\"WeatherPredictor-325\"><span class=\"toc-item-num\">3.2.5&nbsp;&nbsp;</span>WeatherPredictor</a></div><div class=\"lev4 toc-item\"><a href=\"#make_data\" data-toc-modified-id=\"make_data-3251\"><span class=\"toc-item-num\">3.2.5.1&nbsp;&nbsp;</span>make_data</a></div><div class=\"lev4 toc-item\"><a href=\"#create_model\" data-toc-modified-id=\"create_model-3252\"><span class=\"toc-item-num\">3.2.5.2&nbsp;&nbsp;</span>create_model</a></div><div class=\"lev3 toc-item\"><a href=\"#SinWavePredictor\" data-toc-modified-id=\"SinWavePredictor-326\"><span class=\"toc-item-num\">3.2.6&nbsp;&nbsp;</span>SinWavePredictor</a></div><div class=\"lev4 toc-item\"><a href=\"#make_data\" data-toc-modified-id=\"make_data-3261\"><span class=\"toc-item-num\">3.2.6.1&nbsp;&nbsp;</span>make_data</a></div><div class=\"lev3 toc-item\"><a href=\"#normalize\" data-toc-modified-id=\"normalize-327\"><span class=\"toc-item-num\">3.2.7&nbsp;&nbsp;</span>normalize</a></div><div class=\"lev4 toc-item\"><a href=\"#引数\" data-toc-modified-id=\"引数-3271\"><span class=\"toc-item-num\">3.2.7.1&nbsp;&nbsp;</span>引数</a></div><div class=\"lev4 toc-item\"><a href=\"#戻り値\" data-toc-modified-id=\"戻り値-3272\"><span class=\"toc-item-num\">3.2.7.2&nbsp;&nbsp;</span>戻り値</a></div><div class=\"lev3 toc-item\"><a href=\"#denormalize\" data-toc-modified-id=\"denormalize-328\"><span class=\"toc-item-num\">3.2.8&nbsp;&nbsp;</span>denormalize</a></div><div class=\"lev4 toc-item\"><a href=\"#引数\" data-toc-modified-id=\"引数-3281\"><span class=\"toc-item-num\">3.2.8.1&nbsp;&nbsp;</span>引数</a></div><div class=\"lev4 toc-item\"><a href=\"#戻り値\" data-toc-modified-id=\"戻り値-3282\"><span class=\"toc-item-num\">3.2.8.2&nbsp;&nbsp;</span>戻り値</a></div><div class=\"lev3 toc-item\"><a href=\"#n_gram\" data-toc-modified-id=\"n_gram-329\"><span class=\"toc-item-num\">3.2.9&nbsp;&nbsp;</span>n_gram</a></div><div class=\"lev4 toc-item\"><a href=\"#引数\" data-toc-modified-id=\"引数-3291\"><span class=\"toc-item-num\">3.2.9.1&nbsp;&nbsp;</span>引数</a></div><div class=\"lev4 toc-item\"><a href=\"#戻り値\" data-toc-modified-id=\"戻り値-3292\"><span class=\"toc-item-num\">3.2.9.2&nbsp;&nbsp;</span>戻り値</a></div><div class=\"lev3 toc-item\"><a href=\"#recursively_predict\" data-toc-modified-id=\"recursively_predict-3210\"><span class=\"toc-item-num\">3.2.10&nbsp;&nbsp;</span>recursively_predict</a></div><div class=\"lev4 toc-item\"><a href=\"#引数\" data-toc-modified-id=\"引数-32101\"><span class=\"toc-item-num\">3.2.10.1&nbsp;&nbsp;</span>引数</a></div><div class=\"lev4 toc-item\"><a href=\"#戻り値\" data-toc-modified-id=\"戻り値-32102\"><span class=\"toc-item-num\">3.2.10.2&nbsp;&nbsp;</span>戻り値</a></div><div class=\"lev3 toc-item\"><a href=\"#predict_1D\" data-toc-modified-id=\"predict_1D-3211\"><span class=\"toc-item-num\">3.2.11&nbsp;&nbsp;</span>predict_1D</a></div><div class=\"lev4 toc-item\"><a href=\"#引数\" data-toc-modified-id=\"引数-32111\"><span class=\"toc-item-num\">3.2.11.1&nbsp;&nbsp;</span>引数</a></div><div class=\"lev4 toc-item\"><a href=\"#戻り値\" data-toc-modified-id=\"戻り値-32112\"><span class=\"toc-item-num\">3.2.11.2&nbsp;&nbsp;</span>戻り値</a></div><div class=\"lev2 toc-item\"><a href=\"#forecaster\" data-toc-modified-id=\"forecaster-33\"><span class=\"toc-item-num\">3.3&nbsp;&nbsp;</span>forecaster</a></div><div class=\"lev3 toc-item\"><a href=\"#create_train_model\" data-toc-modified-id=\"create_train_model-331\"><span class=\"toc-item-num\">3.3.1&nbsp;&nbsp;</span>create_train_model</a></div><div class=\"lev4 toc-item\"><a href=\"#引数\" data-toc-modified-id=\"引数-3311\"><span class=\"toc-item-num\">3.3.1.1&nbsp;&nbsp;</span>引数</a></div><div class=\"lev4 toc-item\"><a href=\"#戻り値\" data-toc-modified-id=\"戻り値-3312\"><span class=\"toc-item-num\">3.3.1.2&nbsp;&nbsp;</span>戻り値</a></div><div class=\"lev3 toc-item\"><a href=\"#recreate_all_models\" data-toc-modified-id=\"recreate_all_models-332\"><span class=\"toc-item-num\">3.3.2&nbsp;&nbsp;</span>recreate_all_models</a></div><div class=\"lev4 toc-item\"><a href=\"#引数\" data-toc-modified-id=\"引数-3321\"><span class=\"toc-item-num\">3.3.2.1&nbsp;&nbsp;</span>引数</a></div><div class=\"lev4 toc-item\"><a href=\"#戻り値\" data-toc-modified-id=\"戻り値-3322\"><span class=\"toc-item-num\">3.3.2.2&nbsp;&nbsp;</span>戻り値</a></div><div class=\"lev3 toc-item\"><a href=\"#evaluate\" data-toc-modified-id=\"evaluate-333\"><span class=\"toc-item-num\">3.3.3&nbsp;&nbsp;</span>evaluate</a></div><div class=\"lev4 toc-item\"><a href=\"#引数\" data-toc-modified-id=\"引数-3331\"><span class=\"toc-item-num\">3.3.3.1&nbsp;&nbsp;</span>引数</a></div><div class=\"lev4 toc-item\"><a href=\"#戻り値\" data-toc-modified-id=\"戻り値-3332\"><span class=\"toc-item-num\">3.3.3.2&nbsp;&nbsp;</span>戻り値</a></div><div class=\"lev3 toc-item\"><a href=\"#main\" data-toc-modified-id=\"main-334\"><span class=\"toc-item-num\">3.3.4&nbsp;&nbsp;</span>main</a></div><div class=\"lev4 toc-item\"><a href=\"#引数\" data-toc-modified-id=\"引数-3341\"><span class=\"toc-item-num\">3.3.4.1&nbsp;&nbsp;</span>引数</a></div><div class=\"lev4 toc-item\"><a href=\"#戻り値\" data-toc-modified-id=\"戻り値-3342\"><span class=\"toc-item-num\">3.3.4.2&nbsp;&nbsp;</span>戻り値</a></div><div class=\"lev2 toc-item\"><a href=\"#client\" data-toc-modified-id=\"client-34\"><span class=\"toc-item-num\">3.4&nbsp;&nbsp;</span>client</a></div><div class=\"lev3 toc-item\"><a href=\"#main\" data-toc-modified-id=\"main-341\"><span class=\"toc-item-num\">3.4.1&nbsp;&nbsp;</span>main</a></div><div class=\"lev4 toc-item\"><a href=\"#引数\" data-toc-modified-id=\"引数-3411\"><span class=\"toc-item-num\">3.4.1.1&nbsp;&nbsp;</span>引数</a></div><div class=\"lev4 toc-item\"><a href=\"#戻り値\" data-toc-modified-id=\"戻り値-3412\"><span class=\"toc-item-num\">3.4.1.2&nbsp;&nbsp;</span>戻り値</a></div><div class=\"lev2 toc-item\"><a href=\"#temperature_logger\" data-toc-modified-id=\"temperature_logger-35\"><span class=\"toc-item-num\">3.5&nbsp;&nbsp;</span>temperature_logger</a></div><div class=\"lev3 toc-item\"><a href=\"#定数\" data-toc-modified-id=\"定数-351\"><span class=\"toc-item-num\">3.5.1&nbsp;&nbsp;</span>定数</a></div><div class=\"lev2 toc-item\"><a href=\"#log_formatter\" data-toc-modified-id=\"log_formatter-36\"><span class=\"toc-item-num\">3.6&nbsp;&nbsp;</span>log_formatter</a></div><div class=\"lev3 toc-item\"><a href=\"#extract_datetime\" data-toc-modified-id=\"extract_datetime-361\"><span class=\"toc-item-num\">3.6.1&nbsp;&nbsp;</span>extract_datetime</a></div><div class=\"lev4 toc-item\"><a href=\"#引数\" data-toc-modified-id=\"引数-3611\"><span class=\"toc-item-num\">3.6.1.1&nbsp;&nbsp;</span>引数</a></div><div class=\"lev4 toc-item\"><a href=\"#戻り値\" data-toc-modified-id=\"戻り値-3612\"><span class=\"toc-item-num\">3.6.1.2&nbsp;&nbsp;</span>戻り値</a></div><div class=\"lev3 toc-item\"><a href=\"#extract_data\" data-toc-modified-id=\"extract_data-362\"><span class=\"toc-item-num\">3.6.2&nbsp;&nbsp;</span>extract_data</a></div><div class=\"lev4 toc-item\"><a href=\"#引数\" data-toc-modified-id=\"引数-3621\"><span class=\"toc-item-num\">3.6.2.1&nbsp;&nbsp;</span>引数</a></div><div class=\"lev4 toc-item\"><a href=\"#戻り値\" data-toc-modified-id=\"戻り値-3622\"><span class=\"toc-item-num\">3.6.2.2&nbsp;&nbsp;</span>戻り値</a></div><div class=\"lev3 toc-item\"><a href=\"#tail\" data-toc-modified-id=\"tail-363\"><span class=\"toc-item-num\">3.6.3&nbsp;&nbsp;</span>tail</a></div><div class=\"lev4 toc-item\"><a href=\"#引数\" data-toc-modified-id=\"引数-3631\"><span class=\"toc-item-num\">3.6.3.1&nbsp;&nbsp;</span>引数</a></div><div class=\"lev4 toc-item\"><a href=\"#戻り値\" data-toc-modified-id=\"戻り値-3632\"><span class=\"toc-item-num\">3.6.3.2&nbsp;&nbsp;</span>戻り値</a></div><div class=\"lev3 toc-item\"><a href=\"#定数\" data-toc-modified-id=\"定数-364\"><span class=\"toc-item-num\">3.6.4&nbsp;&nbsp;</span>定数</a></div><div class=\"lev2 toc-item\"><a href=\"#dummy_bme280_sample\" data-toc-modified-id=\"dummy_bme280_sample-37\"><span class=\"toc-item-num\">3.7&nbsp;&nbsp;</span>dummy_bme280_sample</a></div>"
   ]
  },
  {
   "cell_type": "markdown",
   "metadata": {
    "heading_collapsed": true
   },
   "source": [
    "# 概要"
   ]
  },
  {
   "cell_type": "markdown",
   "metadata": {
    "hidden": true
   },
   "source": [
    "cowling - \"Neural Weather Forecaster\"\n",
    "\n",
    "ラズパイでディープラーニングによる天気予報を行うためのモジュール。"
   ]
  },
  {
   "cell_type": "markdown",
   "metadata": {
    "heading_collapsed": true
   },
   "source": [
    "# 使用方法"
   ]
  },
  {
   "cell_type": "markdown",
   "metadata": {
    "hidden": true
   },
   "source": [
    "サーバとクライアントを用意し、それぞれ同じディレクトリを用いる。\n",
    "\n",
    "サーバ側では、以下のコマンドでサーバを立てる。\n",
    "\n",
    "```\n",
    "python cowling/forecaster.py -m main -t buf\n",
    "```\n",
    "\n",
    "クライアント側では、稼働中のサーバに対し以下のコマンドから天気予報結果を取得する。\n",
    "\n",
    "```\n",
    "python client.py\n",
    "```\n",
    "\n",
    "なお、クライアントはcronを使い常に以下のコマンドを実行し続けること。\n",
    "\n",
    "```\n",
    "python temperature_logget.py\n",
    "```"
   ]
  },
  {
   "cell_type": "markdown",
   "metadata": {
    "heading_collapsed": true
   },
   "source": [
    "# リファレンス"
   ]
  },
  {
   "cell_type": "markdown",
   "metadata": {
    "heading_collapsed": true,
    "hidden": true
   },
   "source": [
    "## モジュール構成"
   ]
  },
  {
   "cell_type": "markdown",
   "metadata": {
    "hidden": true
   },
   "source": [
    "* cowling\n",
    "    * models\n",
    "        * Predictor\n",
    "            * make_data\n",
    "            * learning\n",
    "            * load_model\n",
    "            * normalize\n",
    "            * denormalize\n",
    "            * create_model\n",
    "        * TemperaturePredictor\n",
    "            * make_data\n",
    "        * PressurePredictor\n",
    "            * make_data\n",
    "        * HumidityPredictor\n",
    "            * make_data\n",
    "        * WeatherPredictor\n",
    "            * make_data\n",
    "            * create_model\n",
    "        * WeathrePredictorByDay\n",
    "            * make_data\n",
    "            * create_model\n",
    "        * SinWavePredictor\n",
    "            * make_data\n",
    "        * normalize\n",
    "        * denormalize\n",
    "        * n_gram\n",
    "        * recursively_predict\n",
    "        * predict_1D\n",
    "    * forecaster\n",
    "        * create_train_model\n",
    "        * recreate_all_models\n",
    "        * evaluate\n",
    "        * main\n",
    "* client\n",
    "* temperature_logger\n",
    "* log_formatter\n",
    "* extract_data"
   ]
  },
  {
   "cell_type": "markdown",
   "metadata": {
    "heading_collapsed": true,
    "hidden": true
   },
   "source": [
    "## models"
   ]
  },
  {
   "cell_type": "markdown",
   "metadata": {
    "hidden": true
   },
   "source": [
    "### Predictor\n",
    "\n",
    "```\n",
    "Predictor(object)\n",
    "```\n",
    "\n",
    "#### learning\n",
    "\n",
    "```\n",
    "learning(self, model, X_train, y_train, output='my_model.h5')\n",
    "```\n",
    "\n",
    "モデルの訓練を開始する。\n",
    "\n",
    "##### 引数\n",
    "\n",
    "* model(Keras.models): ニューラルネットモデル\n",
    "* X_train(np.array): 訓練データ\n",
    "* y_train(np.array): 訓練データ用ラベル\n",
    "* output(str): 学習後に保存するモデルの名前\n",
    "\n",
    "##### 戻り値\n",
    "\n",
    "model(Keras.models): 訓練後のモデル\n",
    "\n",
    "#### load_model\n",
    "\n",
    "```\n",
    "load_model(self, model_file)\n",
    "```\n",
    "\n",
    "モデルを読み込む。\n",
    "\n",
    "##### 引数\n",
    "\n",
    "* model_file(str): モデルのファイルパス\n",
    "\n",
    "##### 戻り値\n",
    "\n",
    "model(Keras.models): ニューラルネットモデル\n",
    "\n",
    "#### normalize\n",
    "\n",
    "```\n",
    "normalize(self, vector, mode)\n",
    "```\n",
    "\n",
    "ベクトルデータの正規化を行う。\n",
    "\n",
    "※基本的に各make_dataで正規化しているため、使用する場面はない。\n",
    "\n",
    "#### denormalize\n",
    "\n",
    "```\n",
    "denormalize(self, vector, mode)\n",
    "```\n",
    "\n",
    "正規化されたベクトルデータを元の値に戻す。\n",
    "\n",
    "主にデバッグ用に用いる。\n",
    "\n",
    "##### 引数\n",
    "\n",
    "* vector(np.array): ベクトルデータ\n",
    "* mode(str): 'tmp'または'prs'または'hmd'\n",
    "\n",
    "##### 戻り値\n",
    "\n",
    "vector: 逆正規化されたベクトルデータ\n",
    "\n",
    "#### create_model\n",
    "\n",
    "```\n",
    "create_model(self, time=1)\n",
    "```\n",
    "\n",
    "LSTMネットワークモデルを作成する。\n",
    "\n",
    "入力は1次元×time×batchである。\n",
    "\n",
    "##### 引数\n",
    "\n",
    "* time(int): LSTMが参照する時系列のデータ数。デフォルトでは1-gramモデル\n",
    "\n",
    "##### 戻り値\n",
    "\n",
    "model(Keras.models): 初期状態のモデル\n",
    "\n",
    "### TemperaturePredictor\n",
    "\n",
    "```\n",
    "TemperaturePredictor(Predictor)\n",
    "```\n",
    "\n",
    "LSTMによる温度の予測を行うクラス。\n",
    "\n",
    "#### make_data\n",
    "\n",
    "```\n",
    "make_data(self, df_file)\n",
    "```\n",
    "\n",
    "温度データを読み込み、前処理を行う。\n",
    "\n",
    "##### 引数\n",
    "\n",
    "* df_file(str): pandas用csvデータのファイルパス\n",
    "\n",
    "##### 戻り値\n",
    "\n",
    "X, y(np.array, np.array): 訓練データとラベル\n",
    "\n",
    "### PressurePredictor\n",
    "\n",
    "```\n",
    "PressurePredictor(Predictor)\n",
    "```\n",
    "\n",
    "LSTMによる気圧の予測を行うクラス。\n",
    "\n",
    "#### make_data\n",
    "\n",
    "```\n",
    "make_data(self, df_file)\n",
    "```\n",
    "\n",
    "気圧データを読み込み、前処理を行う。\n",
    "\n",
    "##### 引数\n",
    "\n",
    "* df_file(str): pandas用csvデータのファイルパス\n",
    "\n",
    "##### 戻り値\n",
    "\n",
    "X, y(np.array, np.array): 訓練データとラベル\n",
    "\n",
    "### HumidityPredictor\n",
    "\n",
    "```\n",
    "HumidityPredictor(Predictor)\n",
    "```\n",
    "\n",
    "LSTMによる湿度の予測を行うクラス。\n",
    "\n",
    "#### make_data\n",
    "\n",
    "```\n",
    "make_data(self, df_file)\n",
    "```\n",
    "\n",
    "湿度データを読み込み、前処理を行う。\n",
    "\n",
    "##### 引数\n",
    "\n",
    "* df_file(str): pandas用csvデータのファイルパス\n",
    "\n",
    "##### 戻り値\n",
    "\n",
    "X, y(np.array, np.array): 訓練データとラベル\n",
    "\n",
    "### WeatherPredictor\n",
    "\n",
    "```\n",
    "WeatherPredictor(Predictor)\n",
    "```\n",
    "\n",
    "LSTMによる天気の予測を行うクラス。\n",
    "\n",
    "#### make_data\n",
    "\n",
    "```\n",
    "make_data(self, df_file, datetime_flag=False)\n",
    "```\n",
    "\n",
    "気温・気圧・湿度・天気の各データを読み込み、前処理を行う。\n",
    "\n",
    "##### 引数\n",
    "\n",
    "* df_file(str): pandas用csvデータのファイルパス\n",
    "* datetime_flag(bool): 戻り値に日付・時刻を含めるかどうかのフラグ\n",
    "\n",
    "##### 戻り値\n",
    "\n",
    "X, y(np.array, np.array): 訓練データとラベル\n",
    "X, y, y_datetime(np.array, np.array, np.array): 訓練データとラベルと、ラベルに対応した日付・時刻\n",
    "\n",
    "#### create_model\n",
    "\n",
    "```\n",
    "create_model(self, time=1)\n",
    "```\n",
    "\n",
    "lstmによる天気予報モデルを作成する。\n",
    "\n",
    "入力次元は3次元×time×batchである。\n",
    "\n",
    "##### 引数\n",
    "\n",
    "* time(int): LSTMが参照する時系列のデータ数。デフォルトでは1-gramモデル\n",
    "\n",
    "##### 戻り値\n",
    "\n",
    "model(Keras.models): 初期状態のモデル\n",
    "\n",
    "### SinWavePredictor\n",
    "\n",
    "```\n",
    "SinWavePredictor(Predictor)\n",
    "```\n",
    "\n",
    "LSTMによってSin波の予測を行うチュートリアル用クラス。\n",
    "\n",
    "#### make_data\n",
    "\n",
    "```\n",
    "make_data(self)\n",
    "```\n",
    "\n",
    "sin波の訓練データを作成する。\n",
    "\n",
    "##### 戻り値\n",
    "\n",
    "X, y(np.array, np.array): 訓練データとラベル\n",
    "\n",
    "### normalize\n",
    "\n",
    "```\n",
    "normalize(vector)\n",
    "```\n",
    "\n",
    "ベクトルを正規化する。\n",
    "\n",
    "SinWavePredictor用コード。\n",
    "\n",
    "#### 引数\n",
    "\n",
    "* vector(np.array): 正規化したいベクトル\n",
    "\n",
    "#### 戻り値\n",
    "\n",
    "vector(np.array): 正規化されたベクトル\n",
    "\n",
    "### denormalize\n",
    "\n",
    "```\n",
    "denormalize(vector, original_vector)\n",
    "```\n",
    "\n",
    "正規化されたベクトルを元に戻す。\n",
    "\n",
    "SinWavePredictor用コード。\n",
    "\n",
    "#### 引数\n",
    "\n",
    "* vector(np.array): 正規化されたベクトル\n",
    "* original_vector(np.array): normalizeの引数に使用したベクトル\n",
    "\n",
    "#### 戻り値\n",
    "\n",
    "vector(np.array): 逆正規化されたベクトル\n",
    "\n",
    "### n_gram\n",
    "\n",
    "```\n",
    "n_gram(tensor, N))\n",
    "```\n",
    "\n",
    "1-gramモデル用の訓練データを、任意のN-gramモデル用データに変換する。\n",
    "\n",
    "SinWavePredictor用コード。\n",
    "\n",
    "#### 引数\n",
    "\n",
    "* tensor(np.array): 訓練データ\n",
    "* N(int): 参照する時系列の次元数\n",
    "\n",
    "#### 戻り値\n",
    "\n",
    "* dst(np.array): N-gramモデル用の訓練データ\n",
    "\n",
    "### recursively_predict\n",
    "\n",
    "```\n",
    "recursively_predict(models, X, y, first_model_time=1, use_n_gram=False, test_length=500)\n",
    "```\n",
    "\n",
    "複数のLSTMモデルから、再帰的に未来の予測を行う。\n",
    "\n",
    "1-gramモデルと2-gramモデルを利用する場合は、次の１時間目と２時間目の予測を行う。\n",
    "\n",
    "#### 引数\n",
    "\n",
    "* models(list): LSTMモデルのリスト。各モデルはひとつずつ次元の違うn_gramモデルでなくてはならない。（例：[3-gram, 4-gram, 5-gram, ...]）\n",
    "* X(np.array): テストデータ\n",
    "* y(np.array): ラベル。レガシーコード用。現在は使用しないのでNoneにする\n",
    "* first_model_time: 最初のLSTMモデルの時系列次元数。3-gramモデルならば3\n",
    "* use_n_gram(bool): Xをn_gramモデル用に変換する。SinWavePredictor用。それ以外ではFalseにして使用しない\n",
    "* test_length: 使用するテストデータの数\n",
    "\n",
    "#### 戻り値\n",
    "\n",
    "preds, inputs(list, list): 予測結果と、予測に使った入力\n",
    "\n",
    "### predict_1D\n",
    "\n",
    "```\n",
    "predict_1D(model, input_, iter_)\n",
    "```\n",
    "\n",
    "単一のモデルから、再帰的に未来の予測を行う。\n",
    "\n",
    "※recursively_predictの下位互換であるため、廃止検討中。後方互換性のために保持\n",
    "\n",
    "#### 引数\n",
    "\n",
    "* model(Keras.models): 予測に使うモデル\n",
    "* input_(np.array): 予測用の入力\n",
    "* iter_(int): 予測を行う回数\n",
    "\n",
    "#### 戻り値\n",
    "\n",
    "input_, plot_x, plot_y(np.array, list, list): 予測の入力値、プロット用ラベル、予測結果"
   ]
  },
  {
   "cell_type": "markdown",
   "metadata": {
    "heading_collapsed": true,
    "hidden": true
   },
   "source": [
    "## forecaster"
   ]
  },
  {
   "cell_type": "markdown",
   "metadata": {
    "collapsed": true,
    "hidden": true
   },
   "source": [
    "### create_train_model\n",
    "\n",
    "```\n",
    "create_train_model(time, mode, output='model')\n",
    "```\n",
    "\n",
    "モデルの作成、学習、保存を一括で行う。\n",
    "\n",
    "#### 引数\n",
    "\n",
    "* time(int): 作成するモデルの時系列次元数。n-gramモデルのn\n",
    "* mode(str): 'tmp'または'prs'または'hmd'\n",
    "* output(str): 学習後に保存するモデルの名前\n",
    "\n",
    "#### 戻り値\n",
    "\n",
    "None\n",
    "\n",
    "### recreate_all_models\n",
    "\n",
    "```\n",
    "recreate_all_models()\n",
    "```\n",
    "\n",
    "3-gramから9-gramまでのtmp,prs,hmdの全モデルを再作成・再訓練して保存する。\n",
    "\n",
    "#### 引数\n",
    "\n",
    "なし\n",
    "\n",
    "#### 戻り値\n",
    "\n",
    "None\n",
    "\n",
    "### evaluate\n",
    "\n",
    "```\n",
    "evaluate(test_data=TEST_DATA)\n",
    "```\n",
    "\n",
    "学習したモデルの評価を行う。\n",
    "\n",
    "定数TEST_DATAの参照ファイルは2016年度の天気観測データ（data_2016_by_time.csv）\n",
    "\n",
    "#### 引数\n",
    "\n",
    "* test_data(str): 評価用テストデータ。pandas用csv形式\n",
    "\n",
    "#### 戻り値\n",
    "\n",
    "None\n",
    "\n",
    "### main\n",
    "\n",
    "```\n",
    "main(test_data=TEST_DATA)\n",
    "```\n",
    "\n",
    "天気予報サーバを8010ポートで立てる。\n",
    "\n",
    "数値のバイトコードを受信したら、その数値分のデータの予測を行い、送信元に返す。\n",
    "\n",
    "テストデータの更新はクライアント側で行う。\n",
    "\n",
    "#### 引数\n",
    "\n",
    "* test_data(str): テストデータ。pandas用csv形式。現在は廃止\n",
    "\n",
    "#### 戻り値\n",
    "\n",
    "None"
   ]
  },
  {
   "cell_type": "markdown",
   "metadata": {
    "heading_collapsed": true,
    "hidden": true
   },
   "source": [
    "## client\n",
    "\n"
   ]
  },
  {
   "cell_type": "markdown",
   "metadata": {
    "hidden": true
   },
   "source": [
    "コマンドラインから実行することで、天気予報サーバの予測結果を出力する。"
   ]
  },
  {
   "cell_type": "markdown",
   "metadata": {
    "hidden": true
   },
   "source": [
    "### main\n",
    "\n",
    "```bach\n",
    "main(host, port, buf_size, test_data)\n",
    "```\n",
    "\n",
    "指定したホスト・ポート上の天気予報サーバにアクセスし、評価用データを渡す。\n",
    "\n",
    "最新の予測結果が標準出力に返される。\n",
    "\n",
    "#### 引数\n",
    "\n",
    "* host(str): サーバのホスト\n",
    "* port(int): サーバのポート\n",
    "* buf_size(int): ソケット通信で用いるバッファのサイズ\n",
    "* test_data(str): 評価用データのファイルパス\n",
    "\n",
    "#### 戻り値\n",
    "\n",
    "None"
   ]
  },
  {
   "cell_type": "markdown",
   "metadata": {
    "heading_collapsed": true,
    "hidden": true
   },
   "source": [
    "## temperature_logger"
   ]
  },
  {
   "cell_type": "markdown",
   "metadata": {
    "hidden": true
   },
   "source": [
    "センサのデータを取得し、ファイル名を日時でリネームする。\n",
    "\n",
    "デフォルトではtemperature_logディレクトリにデータをロギングする。\n",
    "\n",
    "cronを用いて定期的に実行する。\n",
    "\n",
    "センサがないデバイスでは、定数SCRIPT_PATHを`dummy_mbe280_sample.py`に設定する。\n",
    "\n",
    "センサがあるデバイスでは、センサ取得スクリプトのパス（例：`bme280_sample.py`）に設定する。"
   ]
  },
  {
   "cell_type": "markdown",
   "metadata": {
    "hidden": true
   },
   "source": [
    "### 定数"
   ]
  },
  {
   "cell_type": "markdown",
   "metadata": {
    "hidden": true
   },
   "source": [
    "* SCRIPT_PATH: センサ取得スクリプトのパス\n",
    "* LOG_PATH: 取得結果の一時ファイルのパス\n",
    "* DST_PATH: ログの保存先パス"
   ]
  },
  {
   "cell_type": "markdown",
   "metadata": {
    "heading_collapsed": true,
    "hidden": true
   },
   "source": [
    "## log_formatter"
   ]
  },
  {
   "cell_type": "markdown",
   "metadata": {
    "heading_collapsed": true,
    "hidden": true
   },
   "source": [
    "### extract_datetime\n",
    "\n",
    "temperature_loggerのフォーマットから日時を読み取る。\n",
    "\n",
    "client.pyの内部で呼び出しているので、直接実行する必要はない。\n",
    "\n",
    "#### 引数\n",
    "\n",
    "* file_(str): ログファイルのパス\n",
    "\n",
    "#### 戻り値\n",
    "\n",
    "datetime(str): `y/m/d h:m:s`形式の文字列\n",
    "\n",
    "### extract_data\n",
    "\n",
    "#### 引数\n",
    "\n",
    "* data(list): ログファイルを行毎に分割したリスト\n",
    "\n",
    "#### 戻り値\n",
    "\n",
    "data: `tmp,rain,prs,hmd`形式の文字列\n",
    "\n",
    "### tail\n",
    "\n",
    "#### 引数\n",
    "\n",
    "* num_tail(int): 末尾から数えた、使用するデータ数\n",
    "\n",
    "#### 戻り値\n",
    "\n",
    "None\n",
    "\n",
    "### 定数\n",
    "\n",
    "* DATA_LOG: ログの保存ディレクトリ\n",
    "* OUTPUT_FILE: 出力するcsv形式評価用データのパス\n",
    "* HEADER: 出力するcsvファイルの見出し\n",
    "* NUM_TAIL: 末尾から数えた、使用するデータ数"
   ]
  },
  {
   "cell_type": "markdown",
   "metadata": {
    "heading_collapsed": true,
    "hidden": true
   },
   "source": [
    "## dummy_bme280_sample"
   ]
  },
  {
   "cell_type": "markdown",
   "metadata": {
    "collapsed": true,
    "hidden": true
   },
   "source": [
    "センサの値を読み取るスクリプトの代わりとして、ダミーの値を返す。\n",
    "\n",
    "temperature_loggerから呼び出されるので、直接実行はしない。"
   ]
  }
 ],
 "metadata": {
  "anaconda-cloud": {},
  "kernelspec": {
   "display_name": "Python [default]",
   "language": "python",
   "name": "python3"
  },
  "language_info": {
   "codemirror_mode": {
    "name": "ipython",
    "version": 3
   },
   "file_extension": ".py",
   "mimetype": "text/x-python",
   "name": "python",
   "nbconvert_exporter": "python",
   "pygments_lexer": "ipython3",
   "version": "3.5.2"
  },
  "latex_envs": {
   "LaTeX_envs_menu_present": true,
   "bibliofile": "biblio.bib",
   "cite_by": "apalike",
   "current_citInitial": 1,
   "eqLabelWithNumbers": true,
   "eqNumInitial": 1,
   "labels_anchors": false,
   "latex_user_defs": false,
   "report_style_numbering": false,
   "user_envs_cfg": false
  },
  "toc": {
   "colors": {
    "hover_highlight": "#DAA520",
    "running_highlight": "#FF0000",
    "selected_highlight": "#FFD700"
   },
   "moveMenuLeft": true,
   "nav_menu": {
    "height": "408px",
    "width": "252px"
   },
   "navigate_menu": true,
   "number_sections": true,
   "sideBar": true,
   "threshold": 4,
   "toc_cell": true,
   "toc_section_display": "block",
   "toc_window_display": false
  }
 },
 "nbformat": 4,
 "nbformat_minor": 1
}
